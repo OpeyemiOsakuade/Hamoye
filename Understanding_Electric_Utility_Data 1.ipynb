{
  "nbformat": 4,
  "nbformat_minor": 0,
  "metadata": {
    "colab": {
      "name": "Intro to python (Understanding Electric Utility Data)1",
      "provenance": [],
      "collapsed_sections": [],
      "authorship_tag": "ABX9TyPXjPIb35zltjWwRB+WHb6j",
      "include_colab_link": true
    },
    "kernelspec": {
      "name": "python3",
      "display_name": "Python 3"
    }
  },
  "cells": [
    {
      "cell_type": "markdown",
      "metadata": {
        "id": "view-in-github",
        "colab_type": "text"
      },
      "source": [
        "<a href=\"https://colab.research.google.com/github/opeyemiferanmi1/Hamoye/blob/master/Understanding_Electric_Utility_Data%201.ipynb\" target=\"_parent\"><img src=\"https://colab.research.google.com/assets/colab-badge.svg\" alt=\"Open In Colab\"/></a>"
      ]
    },
    {
      "cell_type": "markdown",
      "metadata": {
        "id": "emkrjfBOHt_a",
        "colab_type": "text"
      },
      "source": [
        "Import Necessary Libraries"
      ]
    },
    {
      "cell_type": "code",
      "metadata": {
        "id": "Qyc8pkHcvDvF",
        "colab_type": "code",
        "colab": {}
      },
      "source": [
        "import pandas as pd"
      ],
      "execution_count": 1,
      "outputs": []
    },
    {
      "cell_type": "markdown",
      "metadata": {
        "id": "fbl4EokyH2TB",
        "colab_type": "text"
      },
      "source": [
        "Import dataset\n"
      ]
    },
    {
      "cell_type": "code",
      "metadata": {
        "id": "HZ8M6-kEqwfo",
        "colab_type": "code",
        "colab": {}
      },
      "source": [
        "url='https://raw.githubusercontent.com/WalePhenomenon/climate_change/master/fuel_ferc1.csv'\n",
        "fuel_data = pd.read_csv(url,error_bad_lines=False)"
      ],
      "execution_count": 2,
      "outputs": []
    },
    {
      "cell_type": "code",
      "metadata": {
        "id": "FpZqT_XSvVEs",
        "colab_type": "code",
        "colab": {
          "base_uri": "https://localhost:8080/",
          "height": 224
        },
        "outputId": "ef90b908-a12b-4b52-eb51-27e7453c6a3e"
      },
      "source": [
        "fuel_data.head()"
      ],
      "execution_count": 3,
      "outputs": [
        {
          "output_type": "execute_result",
          "data": {
            "text/html": [
              "<div>\n",
              "<style scoped>\n",
              "    .dataframe tbody tr th:only-of-type {\n",
              "        vertical-align: middle;\n",
              "    }\n",
              "\n",
              "    .dataframe tbody tr th {\n",
              "        vertical-align: top;\n",
              "    }\n",
              "\n",
              "    .dataframe thead th {\n",
              "        text-align: right;\n",
              "    }\n",
              "</style>\n",
              "<table border=\"1\" class=\"dataframe\">\n",
              "  <thead>\n",
              "    <tr style=\"text-align: right;\">\n",
              "      <th></th>\n",
              "      <th>record_id</th>\n",
              "      <th>utility_id_ferc1</th>\n",
              "      <th>report_year</th>\n",
              "      <th>plant_name_ferc1</th>\n",
              "      <th>fuel_type_code_pudl</th>\n",
              "      <th>fuel_unit</th>\n",
              "      <th>fuel_qty_burned</th>\n",
              "      <th>fuel_mmbtu_per_unit</th>\n",
              "      <th>fuel_cost_per_unit_burned</th>\n",
              "      <th>fuel_cost_per_unit_delivered</th>\n",
              "      <th>fuel_cost_per_mmbtu</th>\n",
              "    </tr>\n",
              "  </thead>\n",
              "  <tbody>\n",
              "    <tr>\n",
              "      <th>0</th>\n",
              "      <td>f1_fuel_1994_12_1_0_7</td>\n",
              "      <td>1</td>\n",
              "      <td>1994</td>\n",
              "      <td>rockport</td>\n",
              "      <td>coal</td>\n",
              "      <td>ton</td>\n",
              "      <td>5377489.0</td>\n",
              "      <td>16.590</td>\n",
              "      <td>18.59</td>\n",
              "      <td>18.53</td>\n",
              "      <td>1.121</td>\n",
              "    </tr>\n",
              "    <tr>\n",
              "      <th>1</th>\n",
              "      <td>f1_fuel_1994_12_1_0_10</td>\n",
              "      <td>1</td>\n",
              "      <td>1994</td>\n",
              "      <td>rockport total plant</td>\n",
              "      <td>coal</td>\n",
              "      <td>ton</td>\n",
              "      <td>10486945.0</td>\n",
              "      <td>16.592</td>\n",
              "      <td>18.58</td>\n",
              "      <td>18.53</td>\n",
              "      <td>1.120</td>\n",
              "    </tr>\n",
              "    <tr>\n",
              "      <th>2</th>\n",
              "      <td>f1_fuel_1994_12_2_0_1</td>\n",
              "      <td>2</td>\n",
              "      <td>1994</td>\n",
              "      <td>gorgas</td>\n",
              "      <td>coal</td>\n",
              "      <td>ton</td>\n",
              "      <td>2978683.0</td>\n",
              "      <td>24.130</td>\n",
              "      <td>39.72</td>\n",
              "      <td>38.12</td>\n",
              "      <td>1.650</td>\n",
              "    </tr>\n",
              "    <tr>\n",
              "      <th>3</th>\n",
              "      <td>f1_fuel_1994_12_2_0_7</td>\n",
              "      <td>2</td>\n",
              "      <td>1994</td>\n",
              "      <td>barry</td>\n",
              "      <td>coal</td>\n",
              "      <td>ton</td>\n",
              "      <td>3739484.0</td>\n",
              "      <td>23.950</td>\n",
              "      <td>47.21</td>\n",
              "      <td>45.99</td>\n",
              "      <td>1.970</td>\n",
              "    </tr>\n",
              "    <tr>\n",
              "      <th>4</th>\n",
              "      <td>f1_fuel_1994_12_2_0_10</td>\n",
              "      <td>2</td>\n",
              "      <td>1994</td>\n",
              "      <td>chickasaw</td>\n",
              "      <td>gas</td>\n",
              "      <td>mcf</td>\n",
              "      <td>40533.0</td>\n",
              "      <td>1.000</td>\n",
              "      <td>2.77</td>\n",
              "      <td>2.77</td>\n",
              "      <td>2.570</td>\n",
              "    </tr>\n",
              "  </tbody>\n",
              "</table>\n",
              "</div>"
            ],
            "text/plain": [
              "                record_id  ...  fuel_cost_per_mmbtu\n",
              "0   f1_fuel_1994_12_1_0_7  ...                1.121\n",
              "1  f1_fuel_1994_12_1_0_10  ...                1.120\n",
              "2   f1_fuel_1994_12_2_0_1  ...                1.650\n",
              "3   f1_fuel_1994_12_2_0_7  ...                1.970\n",
              "4  f1_fuel_1994_12_2_0_10  ...                2.570\n",
              "\n",
              "[5 rows x 11 columns]"
            ]
          },
          "metadata": {
            "tags": []
          },
          "execution_count": 3
        }
      ]
    },
    {
      "cell_type": "code",
      "metadata": {
        "id": "tMNr13B8vXhI",
        "colab_type": "code",
        "colab": {
          "base_uri": "https://localhost:8080/",
          "height": 221
        },
        "outputId": "5a5f74ce-7e6d-4e20-9ec2-8d3b59aaa6a6"
      },
      "source": [
        "fuel_data.isnull().sum()"
      ],
      "execution_count": 4,
      "outputs": [
        {
          "output_type": "execute_result",
          "data": {
            "text/plain": [
              "record_id                         0\n",
              "utility_id_ferc1                  0\n",
              "report_year                       0\n",
              "plant_name_ferc1                  0\n",
              "fuel_type_code_pudl               0\n",
              "fuel_unit                       180\n",
              "fuel_qty_burned                   0\n",
              "fuel_mmbtu_per_unit               0\n",
              "fuel_cost_per_unit_burned         0\n",
              "fuel_cost_per_unit_delivered      0\n",
              "fuel_cost_per_mmbtu               0\n",
              "dtype: int64"
            ]
          },
          "metadata": {
            "tags": []
          },
          "execution_count": 4
        }
      ]
    },
    {
      "cell_type": "code",
      "metadata": {
        "id": "1-ayJ9q8vl22",
        "colab_type": "code",
        "colab": {
          "base_uri": "https://localhost:8080/",
          "height": 34
        },
        "outputId": "3d8eb351-2816-4827-955a-b5fe443f052b"
      },
      "source": [
        "fuel_data.duplicated().any()"
      ],
      "execution_count": 5,
      "outputs": [
        {
          "output_type": "execute_result",
          "data": {
            "text/plain": [
              "False"
            ]
          },
          "metadata": {
            "tags": []
          },
          "execution_count": 5
        }
      ]
    },
    {
      "cell_type": "code",
      "metadata": {
        "id": "O5J5OXL-v-Kg",
        "colab_type": "code",
        "colab": {
          "base_uri": "https://localhost:8080/",
          "height": 473
        },
        "outputId": "c56eceb9-d0cb-4847-8a44-b32465806551"
      },
      "source": [
        "f2014=fuel_data.loc[fuel_data['report_year'] == 2014]\n",
        "f2014"
      ],
      "execution_count": 6,
      "outputs": [
        {
          "output_type": "execute_result",
          "data": {
            "text/html": [
              "<div>\n",
              "<style scoped>\n",
              "    .dataframe tbody tr th:only-of-type {\n",
              "        vertical-align: middle;\n",
              "    }\n",
              "\n",
              "    .dataframe tbody tr th {\n",
              "        vertical-align: top;\n",
              "    }\n",
              "\n",
              "    .dataframe thead th {\n",
              "        text-align: right;\n",
              "    }\n",
              "</style>\n",
              "<table border=\"1\" class=\"dataframe\">\n",
              "  <thead>\n",
              "    <tr style=\"text-align: right;\">\n",
              "      <th></th>\n",
              "      <th>record_id</th>\n",
              "      <th>utility_id_ferc1</th>\n",
              "      <th>report_year</th>\n",
              "      <th>plant_name_ferc1</th>\n",
              "      <th>fuel_type_code_pudl</th>\n",
              "      <th>fuel_unit</th>\n",
              "      <th>fuel_qty_burned</th>\n",
              "      <th>fuel_mmbtu_per_unit</th>\n",
              "      <th>fuel_cost_per_unit_burned</th>\n",
              "      <th>fuel_cost_per_unit_delivered</th>\n",
              "      <th>fuel_cost_per_mmbtu</th>\n",
              "    </tr>\n",
              "  </thead>\n",
              "  <tbody>\n",
              "    <tr>\n",
              "      <th>24281</th>\n",
              "      <td>f1_fuel_2014_12_122_0_1</td>\n",
              "      <td>122</td>\n",
              "      <td>2014</td>\n",
              "      <td>big stone</td>\n",
              "      <td>coal</td>\n",
              "      <td>ton</td>\n",
              "      <td>453825.0</td>\n",
              "      <td>16.572</td>\n",
              "      <td>33.834</td>\n",
              "      <td>33.834</td>\n",
              "      <td>2.042</td>\n",
              "    </tr>\n",
              "    <tr>\n",
              "      <th>24282</th>\n",
              "      <td>f1_fuel_2014_12_122_0_2</td>\n",
              "      <td>122</td>\n",
              "      <td>2014</td>\n",
              "      <td>big stone</td>\n",
              "      <td>oil</td>\n",
              "      <td>bbl</td>\n",
              "      <td>1804.0</td>\n",
              "      <td>5.880</td>\n",
              "      <td>118.718</td>\n",
              "      <td>118.718</td>\n",
              "      <td>20.190</td>\n",
              "    </tr>\n",
              "    <tr>\n",
              "      <th>24283</th>\n",
              "      <td>f1_fuel_2014_12_122_0_4</td>\n",
              "      <td>122</td>\n",
              "      <td>2014</td>\n",
              "      <td>coyote</td>\n",
              "      <td>coal</td>\n",
              "      <td>ton</td>\n",
              "      <td>247404.0</td>\n",
              "      <td>13.794</td>\n",
              "      <td>20.595</td>\n",
              "      <td>20.595</td>\n",
              "      <td>1.493</td>\n",
              "    </tr>\n",
              "    <tr>\n",
              "      <th>24284</th>\n",
              "      <td>f1_fuel_2014_12_122_0_5</td>\n",
              "      <td>122</td>\n",
              "      <td>2014</td>\n",
              "      <td>coyote</td>\n",
              "      <td>oil</td>\n",
              "      <td>bbl</td>\n",
              "      <td>1290.0</td>\n",
              "      <td>5.880</td>\n",
              "      <td>124.857</td>\n",
              "      <td>124.857</td>\n",
              "      <td>21.234</td>\n",
              "    </tr>\n",
              "    <tr>\n",
              "      <th>24285</th>\n",
              "      <td>f1_fuel_2014_12_122_0_7</td>\n",
              "      <td>122</td>\n",
              "      <td>2014</td>\n",
              "      <td>neal #4</td>\n",
              "      <td>coal</td>\n",
              "      <td>ton</td>\n",
              "      <td>227349.0</td>\n",
              "      <td>17.186</td>\n",
              "      <td>31.735</td>\n",
              "      <td>31.735</td>\n",
              "      <td>1.847</td>\n",
              "    </tr>\n",
              "    <tr>\n",
              "      <th>...</th>\n",
              "      <td>...</td>\n",
              "      <td>...</td>\n",
              "      <td>...</td>\n",
              "      <td>...</td>\n",
              "      <td>...</td>\n",
              "      <td>...</td>\n",
              "      <td>...</td>\n",
              "      <td>...</td>\n",
              "      <td>...</td>\n",
              "      <td>...</td>\n",
              "      <td>...</td>\n",
              "    </tr>\n",
              "    <tr>\n",
              "      <th>25447</th>\n",
              "      <td>f1_fuel_2014_12_12_1_5</td>\n",
              "      <td>12</td>\n",
              "      <td>2014</td>\n",
              "      <td>wyodak-bhp 20% share</td>\n",
              "      <td>coal</td>\n",
              "      <td>ton</td>\n",
              "      <td>411774.0</td>\n",
              "      <td>15.982</td>\n",
              "      <td>0.640</td>\n",
              "      <td>13.960</td>\n",
              "      <td>0.910</td>\n",
              "    </tr>\n",
              "    <tr>\n",
              "      <th>25448</th>\n",
              "      <td>f1_fuel_2014_12_12_1_9</td>\n",
              "      <td>12</td>\n",
              "      <td>2014</td>\n",
              "      <td>neil simpson ct #1</td>\n",
              "      <td>gas</td>\n",
              "      <td>mcf</td>\n",
              "      <td>112450.0</td>\n",
              "      <td>0.980</td>\n",
              "      <td>10.360</td>\n",
              "      <td>10.360</td>\n",
              "      <td>10.580</td>\n",
              "    </tr>\n",
              "    <tr>\n",
              "      <th>25449</th>\n",
              "      <td>f1_fuel_2014_12_12_1_12</td>\n",
              "      <td>12</td>\n",
              "      <td>2014</td>\n",
              "      <td>lange ct facility</td>\n",
              "      <td>gas</td>\n",
              "      <td>mcf</td>\n",
              "      <td>40738.0</td>\n",
              "      <td>1.022</td>\n",
              "      <td>8.570</td>\n",
              "      <td>8.570</td>\n",
              "      <td>8.390</td>\n",
              "    </tr>\n",
              "    <tr>\n",
              "      <th>25450</th>\n",
              "      <td>f1_fuel_2014_12_12_1_15</td>\n",
              "      <td>12</td>\n",
              "      <td>2014</td>\n",
              "      <td>wygen iii</td>\n",
              "      <td>gas</td>\n",
              "      <td>mcf</td>\n",
              "      <td>6723.0</td>\n",
              "      <td>0.980</td>\n",
              "      <td>23.614</td>\n",
              "      <td>23.614</td>\n",
              "      <td>5.440</td>\n",
              "    </tr>\n",
              "    <tr>\n",
              "      <th>25451</th>\n",
              "      <td>f1_fuel_2014_12_12_2_3</td>\n",
              "      <td>12</td>\n",
              "      <td>2014</td>\n",
              "      <td>cheyenne prairie 58%</td>\n",
              "      <td>gas</td>\n",
              "      <td>mcf</td>\n",
              "      <td>163114.0</td>\n",
              "      <td>1.035</td>\n",
              "      <td>5.634</td>\n",
              "      <td>5.634</td>\n",
              "      <td>5.440</td>\n",
              "    </tr>\n",
              "  </tbody>\n",
              "</table>\n",
              "<p>1171 rows × 11 columns</p>\n",
              "</div>"
            ],
            "text/plain": [
              "                     record_id  ...  fuel_cost_per_mmbtu\n",
              "24281  f1_fuel_2014_12_122_0_1  ...                2.042\n",
              "24282  f1_fuel_2014_12_122_0_2  ...               20.190\n",
              "24283  f1_fuel_2014_12_122_0_4  ...                1.493\n",
              "24284  f1_fuel_2014_12_122_0_5  ...               21.234\n",
              "24285  f1_fuel_2014_12_122_0_7  ...                1.847\n",
              "...                        ...  ...                  ...\n",
              "25447   f1_fuel_2014_12_12_1_5  ...                0.910\n",
              "25448   f1_fuel_2014_12_12_1_9  ...               10.580\n",
              "25449  f1_fuel_2014_12_12_1_12  ...                8.390\n",
              "25450  f1_fuel_2014_12_12_1_15  ...                5.440\n",
              "25451   f1_fuel_2014_12_12_2_3  ...                5.440\n",
              "\n",
              "[1171 rows x 11 columns]"
            ]
          },
          "metadata": {
            "tags": []
          },
          "execution_count": 6
        }
      ]
    },
    {
      "cell_type": "code",
      "metadata": {
        "id": "YRdDmb40Jzwo",
        "colab_type": "code",
        "colab": {
          "base_uri": "https://localhost:8080/",
          "height": 379
        },
        "outputId": "4436f977-c633-4c54-d2ac-d7b88b8defb6"
      },
      "source": [
        "import matplotlib.pyplot as plt\n",
        "import seaborn as sns\n",
        "plt.figure(figsize=(7,4))\n",
        "plt.xticks(rotation=90)\n",
        "fuel_unit =fuel_data['fuel_unit']\n",
        "sns.barplot(data=fuel_data, x=fuel_unit, y=fuel_unit.nunique())\n",
        "plt.xlabel('Fuel Unit')\n",
        "\n",
        "#Because of the extreme range of the values for the fuel unit, we can plot the barchart by taking the logarithm of the y-axis as follows:\n",
        "#g.set_yscale(\"log\")\n",
        "#g.set_ylim(1, 120000)\n",
        "#plt.xlabel('Fuel Unit')"
      ],
      "execution_count": 8,
      "outputs": [
        {
          "output_type": "stream",
          "text": [
            "/usr/local/lib/python3.6/dist-packages/statsmodels/tools/_testing.py:19: FutureWarning: pandas.util.testing is deprecated. Use the functions in the public API at pandas.testing instead.\n",
            "  import pandas.util.testing as tm\n"
          ],
          "name": "stderr"
        },
        {
          "output_type": "execute_result",
          "data": {
            "text/plain": [
              "Text(0.5, 0, 'Fuel Unit')"
            ]
          },
          "metadata": {
            "tags": []
          },
          "execution_count": 8
        },
        {
          "output_type": "display_data",
          "data": {
            "image/png": "[encoded data removed]",
            "text/plain": [
              "<Figure size 504x288 with 1 Axes>"
            ]
          },
          "metadata": {
            "tags": [],
            "needs_background": "light"
          }
        }
      ]
    },
    {
      "cell_type": "code",
      "metadata": {
        "id": "OFFBPRvTZKg3",
        "colab_type": "code",
        "colab": {
          "base_uri": "https://localhost:8080/",
          "height": 204
        },
        "outputId": "db5a0098-8c36-4baa-a8b5-5cb5487065b6"
      },
      "source": [
        "fuel_data.groupby('fuel_unit')['record_id'].nunique()"
      ],
      "execution_count": 9,
      "outputs": [
        {
          "output_type": "execute_result",
          "data": {
            "text/plain": [
              "fuel_unit\n",
              "bbl        7998\n",
              "gal          84\n",
              "gramsU      464\n",
              "kgU         110\n",
              "mcf       11354\n",
              "mmbtu       180\n",
              "mwdth        95\n",
              "mwhth       100\n",
              "ton        8958\n",
              "Name: record_id, dtype: int64"
            ]
          },
          "metadata": {
            "tags": []
          },
          "execution_count": 9
        }
      ]
    },
    {
      "cell_type": "code",
      "metadata": {
        "id": "YKQD0EV-c4Uz",
        "colab_type": "code",
        "colab": {
          "base_uri": "https://localhost:8080/",
          "height": 204
        },
        "outputId": "cf6aa0cc-2a6f-4879-b37f-5c6061147815"
      },
      "source": [
        "fuel_data.groupby('fuel_unit')['record_id'].count()"
      ],
      "execution_count": 10,
      "outputs": [
        {
          "output_type": "execute_result",
          "data": {
            "text/plain": [
              "fuel_unit\n",
              "bbl        7998\n",
              "gal          84\n",
              "gramsU      464\n",
              "kgU         110\n",
              "mcf       11354\n",
              "mmbtu       180\n",
              "mwdth        95\n",
              "mwhth       100\n",
              "ton        8958\n",
              "Name: record_id, dtype: int64"
            ]
          },
          "metadata": {
            "tags": []
          },
          "execution_count": 10
        }
      ]
    },
    {
      "cell_type": "code",
      "metadata": {
        "id": "YBKquI6oWweO",
        "colab_type": "code",
        "colab": {
          "base_uri": "https://localhost:8080/",
          "height": 297
        },
        "outputId": "655c9b4d-ce09-4043-fc7e-39e12c610a47"
      },
      "source": [
        "sns.boxplot(x=\"fuel_type_code_pudl\", y=\"utility_id_ferc1\",\n",
        "            palette=[\"m\", \"g\"], data=fuel_data)"
      ],
      "execution_count": 12,
      "outputs": [
        {
          "output_type": "execute_result",
          "data": {
            "text/plain": [
              "<matplotlib.axes._subplots.AxesSubplot at 0x7f4151abd2e8>"
            ]
          },
          "metadata": {
            "tags": []
          },
          "execution_count": 12
        },
        {
          "output_type": "display_data",
          "data": {
            "image/png": "[encoded data removed]",
            "text/plain": [
              "<Figure size 432x288 with 1 Axes>"
            ]
          },
          "metadata": {
            "tags": [],
            "needs_background": "light"
          }
        }
      ]
    },
    {
      "cell_type": "code",
      "metadata": {
        "id": "0mbXgtttDCuk",
        "colab_type": "code",
        "colab": {}
      },
      "source": [
        ""
      ],
      "execution_count": null,
      "outputs": []
    }
  ]
}